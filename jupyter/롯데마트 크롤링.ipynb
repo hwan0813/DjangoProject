{
 "cells": [
  {
   "cell_type": "code",
   "execution_count": 4,
   "metadata": {
    "collapsed": true
   },
   "outputs": [],
   "source": [
    "import requests\n",
    "from bs4 import BeautifulSoup\n",
    "\n",
    "url = 'http://www.lottemart.com/category/categoryList.do?CategoryID=C00100140004'\n",
    "html = requests.get(url).text\n",
    "soup = BeautifulSoup(html,'html.parser')"
   ]
  },
  {
   "cell_type": "code",
   "execution_count": 5,
   "metadata": {
    "collapsed": false
   },
   "outputs": [
    {
     "name": "stdout",
     "output_type": "stream",
     "text": [
      "\r\n",
      "\t\t\t\t멕시코산 돼지 삼겹살 (냉장)\n",
      "\r\n",
      "\t\t\t\t제주 삼다돈 돼지 앞다리(100G)\n",
      "\r\n",
      "\t\t\t\t제주 삼다돈 돼지 뒷다리(100G)\n",
      "\r\n",
      "\t\t\t\t국내산 냉장 돼지 앞다리(100G)\n",
      "\r\n",
      "\t\t\t\t국내산 냉장 돼지 뒷다리(100G)\n",
      "\r\n",
      "\t\t\t\t멕시코산 돼지 목심 (냉장)\n",
      "\r\n",
      "\t\t\t\t국내산 냉장 돼지 삼겹살(100G)\n",
      "\r\n",
      "\t\t\t\t제주 삼다돈 돼지 삼겹살(100G)\n",
      "\r\n",
      "\t\t\t\t제주 삼다돈 돼지 목심(100G)\n",
      "\r\n",
      "\t\t\t\t국내산 냉장 돼지 목심(100G)\n",
      "\r\n",
      "\t\t\t\t국내산 냉장 돼지 갈비(100G)\n",
      "\r\n",
      "\t\t\t\t국내산 냉장 돼지 등심(100G)\n",
      "\r\n",
      "\t\t\t\t국내산 냉장 돼지 등갈비(100G)\n",
      "\r\n",
      "\t\t\t\t대패 삼겹살 (수입산)\n",
      "\r\n",
      "\t\t\t\t국내산 냉장 돼지 항정살(100g)\n",
      "\r\n",
      "\t\t\t\t무항생제 돼지 등심 (카레용)(200G)\n",
      "\r\n",
      "\t\t\t\t무항생제 돼지 뒷다리 (다짐용)(200G)\n",
      "\r\n",
      "\t\t\t\t무항생제 돼지 등심 (잡채용)(200G)\n",
      "\r\n",
      "\t\t\t\t무항생제 돼지 앞다리 (찌개용)(200G)\n",
      "\r\n",
      "\t\t\t\t대패 목심 (수입산)\n",
      "\r\n",
      "\t\t\t\t[부처스가든]프리미엄 이베리코 돈목살(샤브용) 500g\n",
      "\r\n",
      "\t\t\t\t[부처스가든]프리미엄 이베리코 돈목살(구이용) 500g\n",
      "\r\n",
      "\t\t\t\t[부처스가든]프리미엄 이베리코 돈목살(구이용) 300g\n",
      "\r\n",
      "\t\t\t\t[부처스가든]프리미엄 이베리코 돈목살(샤브용) 300g\n",
      "\r\n",
      "\t\t\t\t[부처스가든]프리미엄 이베리코 갈매기살 500g\n",
      "\r\n",
      "\t\t\t\t[부처스가든]프리미엄 이베리코 갈매기살 300g\n",
      "\r\n",
      "\t\t\t\t[부처스가든]프리미엄 이베리코 항정살 500g\n",
      "\r\n",
      "\t\t\t\t[부처스가든]프리미엄 이베리코 항정살 300g\n",
      "\r\n",
      "\t\t\t\t[부처스가든]프리미엄 이베리코 통갈비 600g\n",
      "\r\n",
      "\t\t\t\t[부처스가든]프리미엄 이베리코 늑간살 500g\n",
      "\r\n",
      "\t\t\t\t[부처스가든]프리미엄 이베리코 늑간살 300g\n",
      "\r\n",
      "\t\t\t\t[부처스가든]프리미엄 이베리코 뽈살 500g\n",
      "\r\n",
      "\t\t\t\t[부처스가든]프리미엄 이베리코 뽈살 300g\n",
      "\r\n",
      "\t\t\t\t프리미엄 이베리코 돼지고기\n",
      "\r\n",
      "\t\t\t\t삼다돈 돼지고기\n",
      "\r\n",
      "\t\t\t\t토담 장충동 족발 1kg\n",
      "\r\n",
      "\t\t\t\t토담 장충동 미니족발 300g\n",
      "\r\n",
      "\t\t\t\t언제먹어도 맛있는 삼겹살&목심\n",
      "\r\n",
      "\t\t\t\t양고기 양갈비\n",
      "\r\n",
      "\t\t\t\t양고기 어깨살\n",
      "\r\n",
      "\t\t\t\t초이스엘 냉동 대패 삼겹살(800G)\n",
      "\r\n",
      "\t\t\t\t초이스엘 냉동 대패 목심(800G)\n"
     ]
    }
   ],
   "source": [
    "for a_tag in soup.select('#contents .wrap-info a'):\n",
    "    print(a_tag.text)\n",
    "    \n",
    "    "
   ]
  },
  {
   "cell_type": "code",
   "execution_count": 6,
   "metadata": {
    "collapsed": false
   },
   "outputs": [
    {
     "name": "stdout",
     "output_type": "stream",
     "text": [
      "1,040\n",
      "1,280\n",
      "800\n",
      "1,350\n",
      "850\n",
      "1,040\n",
      "2,360\n",
      "2,580\n",
      "2,580\n",
      "2,360\n",
      "1,280\n",
      "1,200\n",
      "2,580\n",
      "8,380\n",
      "3,000\n",
      "3,800\n",
      "3,300\n",
      "3,800\n",
      "4,500\n",
      "8,380\n",
      "15,900\n",
      "15,800\n",
      "9,800\n",
      "9,900\n",
      "15,900\n",
      "9,900\n",
      "16,900\n",
      "11,800\n",
      "11,800\n",
      "15,500\n",
      "9,800\n",
      "15,900\n",
      "9,800\n",
      "9,800\n",
      "~\n",
      "800\n",
      "7,900\n",
      "4,900\n",
      "2,360\n",
      "~\n",
      "14,400\n",
      "12,800\n",
      "15,500\n",
      "15,500\n"
     ]
    }
   ],
   "source": [
    "for a_tag in soup.select('#contents .price-max em'):\n",
    "    print(a_tag.text)"
   ]
  },
  {
   "cell_type": "code",
   "execution_count": 8,
   "metadata": {
    "collapsed": false
   },
   "outputs": [
    {
     "name": "stdout",
     "output_type": "stream",
     "text": [
      "\r\n",
      "\t\t\t\t멕시코산 돼지 삼겹살 (냉장)\n",
      "\r\n",
      "\t\t\t\t제주 삼다돈 돼지 앞다리(100G)\n",
      "\r\n",
      "\t\t\t\t제주 삼다돈 돼지 뒷다리(100G)\n",
      "\r\n",
      "\t\t\t\t국내산 냉장 돼지 앞다리(100G)\n",
      "\r\n",
      "\t\t\t\t국내산 냉장 돼지 뒷다리(100G)\n",
      "\r\n",
      "\t\t\t\t멕시코산 돼지 목심 (냉장)\n",
      "\r\n",
      "\t\t\t\t국내산 냉장 돼지 삼겹살(100G)\n",
      "\r\n",
      "\t\t\t\t제주 삼다돈 돼지 삼겹살(100G)\n",
      "\r\n",
      "\t\t\t\t제주 삼다돈 돼지 목심(100G)\n",
      "\r\n",
      "\t\t\t\t국내산 냉장 돼지 목심(100G)\n",
      "\r\n",
      "\t\t\t\t국내산 냉장 돼지 갈비(100G)\n",
      "\r\n",
      "\t\t\t\t국내산 냉장 돼지 등심(100G)\n",
      "\r\n",
      "\t\t\t\t국내산 냉장 돼지 등갈비(100G)\n",
      "\r\n",
      "\t\t\t\t대패 삼겹살 (수입산)\n",
      "\r\n",
      "\t\t\t\t국내산 냉장 돼지 항정살(100g)\n",
      "\r\n",
      "\t\t\t\t무항생제 돼지 등심 (카레용)(200G)\n",
      "\r\n",
      "\t\t\t\t무항생제 돼지 뒷다리 (다짐용)(200G)\n",
      "\r\n",
      "\t\t\t\t무항생제 돼지 등심 (잡채용)(200G)\n",
      "\r\n",
      "\t\t\t\t무항생제 돼지 앞다리 (찌개용)(200G)\n",
      "\r\n",
      "\t\t\t\t대패 목심 (수입산)\n",
      "\r\n",
      "\t\t\t\t[부처스가든]프리미엄 이베리코 돈목살(샤브용) 500g\n",
      "\r\n",
      "\t\t\t\t[부처스가든]프리미엄 이베리코 돈목살(구이용) 500g\n",
      "\r\n",
      "\t\t\t\t[부처스가든]프리미엄 이베리코 돈목살(구이용) 300g\n",
      "\r\n",
      "\t\t\t\t[부처스가든]프리미엄 이베리코 돈목살(샤브용) 300g\n",
      "\r\n",
      "\t\t\t\t[부처스가든]프리미엄 이베리코 갈매기살 500g\n",
      "\r\n",
      "\t\t\t\t[부처스가든]프리미엄 이베리코 갈매기살 300g\n",
      "\r\n",
      "\t\t\t\t[부처스가든]프리미엄 이베리코 항정살 500g\n",
      "\r\n",
      "\t\t\t\t[부처스가든]프리미엄 이베리코 항정살 300g\n",
      "\r\n",
      "\t\t\t\t[부처스가든]프리미엄 이베리코 통갈비 600g\n",
      "\r\n",
      "\t\t\t\t[부처스가든]프리미엄 이베리코 늑간살 500g\n",
      "\r\n",
      "\t\t\t\t[부처스가든]프리미엄 이베리코 늑간살 300g\n",
      "\r\n",
      "\t\t\t\t[부처스가든]프리미엄 이베리코 뽈살 500g\n",
      "\r\n",
      "\t\t\t\t[부처스가든]프리미엄 이베리코 뽈살 300g\n",
      "\r\n",
      "\t\t\t\t프리미엄 이베리코 돼지고기\n",
      "\r\n",
      "\t\t\t\t삼다돈 돼지고기\n",
      "\r\n",
      "\t\t\t\t토담 장충동 족발 1kg\n",
      "\r\n",
      "\t\t\t\t토담 장충동 미니족발 300g\n",
      "\r\n",
      "\t\t\t\t언제먹어도 맛있는 삼겹살&목심\n",
      "\r\n",
      "\t\t\t\t양고기 양갈비\n",
      "\r\n",
      "\t\t\t\t양고기 어깨살\n",
      "\r\n",
      "\t\t\t\t초이스엘 냉동 대패 삼겹살(800G)\n",
      "\r\n",
      "\t\t\t\t초이스엘 냉동 대패 목심(800G)\n",
      "1,040\n",
      "1,280\n",
      "800\n",
      "1,350\n",
      "850\n",
      "1,040\n",
      "2,360\n",
      "2,580\n",
      "2,580\n",
      "2,360\n",
      "1,280\n",
      "1,200\n",
      "2,580\n",
      "8,380\n",
      "3,000\n",
      "3,800\n",
      "3,300\n",
      "3,800\n",
      "4,500\n",
      "8,380\n",
      "15,900\n",
      "15,800\n",
      "9,800\n",
      "9,900\n",
      "15,900\n",
      "9,900\n",
      "16,900\n",
      "11,800\n",
      "11,800\n",
      "15,500\n",
      "9,800\n",
      "15,900\n",
      "9,800\n",
      "9,800\n",
      "~\n",
      "800\n",
      "7,900\n",
      "4,900\n",
      "2,360\n",
      "~\n",
      "14,400\n",
      "12,800\n",
      "15,500\n",
      "15,500\n"
     ]
    }
   ],
   "source": [
    "for product in soup.select('#contents .prod-name a'):\n",
    "    print(product.text)\n",
    "\n",
    "for price in soup.select('#contents .price-max em'):\n",
    "    print(price.text)\n",
    "    "
   ]
  },
  {
   "cell_type": "code",
   "execution_count": 9,
   "metadata": {
    "collapsed": false
   },
   "outputs": [
    {
     "name": "stdout",
     "output_type": "stream",
     "text": [
      "a\n"
     ]
    }
   ],
   "source": [
    "print(\"a\")"
   ]
  },
  {
   "cell_type": "code",
   "execution_count": 10,
   "metadata": {
    "collapsed": true
   },
   "outputs": [],
   "source": [
    "dict= {}"
   ]
  },
  {
   "cell_type": "code",
   "execution_count": 13,
   "metadata": {
    "collapsed": false
   },
   "outputs": [],
   "source": [
    "dict[\"a\"] = 2"
   ]
  },
  {
   "cell_type": "code",
   "execution_count": 14,
   "metadata": {
    "collapsed": false
   },
   "outputs": [
    {
     "data": {
      "text/plain": [
       "2"
      ]
     },
     "execution_count": 14,
     "metadata": {},
     "output_type": "execute_result"
    }
   ],
   "source": [
    "dict[\"a\"]"
   ]
  },
  {
   "cell_type": "code",
   "execution_count": 17,
   "metadata": {
    "collapsed": false
   },
   "outputs": [
    {
     "name": "stdout",
     "output_type": "stream",
     "text": [
      "('a', 2)\n"
     ]
    }
   ],
   "source": [
    "for i in dict.items():\n",
    "    print(i)"
   ]
  },
  {
   "cell_type": "code",
   "execution_count": 18,
   "metadata": {
    "collapsed": false
   },
   "outputs": [
    {
     "name": "stdout",
     "output_type": "stream",
     "text": [
      "a\n"
     ]
    }
   ],
   "source": [
    "for i in dict.keys():\n",
    "    print(i)"
   ]
  },
  {
   "cell_type": "code",
   "execution_count": 19,
   "metadata": {
    "collapsed": false
   },
   "outputs": [
    {
     "name": "stdout",
     "output_type": "stream",
     "text": [
      "2\n"
     ]
    }
   ],
   "source": [
    "for i in dict.values():\n",
    "    print(i)"
   ]
  },
  {
   "cell_type": "code",
   "execution_count": 20,
   "metadata": {
    "collapsed": false
   },
   "outputs": [
    {
     "data": {
      "text/plain": [
       "{'a': 2}"
      ]
     },
     "execution_count": 20,
     "metadata": {},
     "output_type": "execute_result"
    }
   ],
   "source": [
    "dict"
   ]
  },
  {
   "cell_type": "code",
   "execution_count": 24,
   "metadata": {
    "collapsed": false
   },
   "outputs": [],
   "source": [
    "a = []\n",
    "for product in soup.select('#contents .prod-name a'):\n",
    "    a.append(product.text.strip())"
   ]
  },
  {
   "cell_type": "code",
   "execution_count": 25,
   "metadata": {
    "collapsed": false
   },
   "outputs": [
    {
     "data": {
      "text/plain": [
       "['멕시코산 돼지 삼겹살 (냉장)',\n",
       " '제주 삼다돈 돼지 앞다리(100G)',\n",
       " '제주 삼다돈 돼지 뒷다리(100G)',\n",
       " '국내산 냉장 돼지 앞다리(100G)',\n",
       " '국내산 냉장 돼지 뒷다리(100G)',\n",
       " '멕시코산 돼지 목심 (냉장)',\n",
       " '국내산 냉장 돼지 삼겹살(100G)',\n",
       " '제주 삼다돈 돼지 삼겹살(100G)',\n",
       " '제주 삼다돈 돼지 목심(100G)',\n",
       " '국내산 냉장 돼지 목심(100G)',\n",
       " '국내산 냉장 돼지 갈비(100G)',\n",
       " '국내산 냉장 돼지 등심(100G)',\n",
       " '국내산 냉장 돼지 등갈비(100G)',\n",
       " '대패 삼겹살 (수입산)',\n",
       " '국내산 냉장 돼지 항정살(100g)',\n",
       " '무항생제 돼지 등심 (카레용)(200G)',\n",
       " '무항생제 돼지 뒷다리 (다짐용)(200G)',\n",
       " '무항생제 돼지 등심 (잡채용)(200G)',\n",
       " '무항생제 돼지 앞다리 (찌개용)(200G)',\n",
       " '대패 목심 (수입산)',\n",
       " '[부처스가든]프리미엄 이베리코 돈목살(샤브용) 500g',\n",
       " '[부처스가든]프리미엄 이베리코 돈목살(구이용) 500g',\n",
       " '[부처스가든]프리미엄 이베리코 돈목살(구이용) 300g',\n",
       " '[부처스가든]프리미엄 이베리코 돈목살(샤브용) 300g',\n",
       " '[부처스가든]프리미엄 이베리코 갈매기살 500g',\n",
       " '[부처스가든]프리미엄 이베리코 갈매기살 300g',\n",
       " '[부처스가든]프리미엄 이베리코 항정살 500g',\n",
       " '[부처스가든]프리미엄 이베리코 항정살 300g',\n",
       " '[부처스가든]프리미엄 이베리코 통갈비 600g',\n",
       " '[부처스가든]프리미엄 이베리코 늑간살 500g',\n",
       " '[부처스가든]프리미엄 이베리코 늑간살 300g',\n",
       " '[부처스가든]프리미엄 이베리코 뽈살 500g',\n",
       " '[부처스가든]프리미엄 이베리코 뽈살 300g',\n",
       " '프리미엄 이베리코 돼지고기',\n",
       " '삼다돈 돼지고기',\n",
       " '토담 장충동 족발 1kg',\n",
       " '토담 장충동 미니족발 300g',\n",
       " '언제먹어도 맛있는 삼겹살&목심',\n",
       " '양고기 양갈비',\n",
       " '양고기 어깨살',\n",
       " '초이스엘 냉동 대패 삼겹살(800G)',\n",
       " '초이스엘 냉동 대패 목심(800G)']"
      ]
     },
     "execution_count": 25,
     "metadata": {},
     "output_type": "execute_result"
    }
   ],
   "source": [
    "a"
   ]
  },
  {
   "cell_type": "code",
   "execution_count": 51,
   "metadata": {
    "collapsed": true
   },
   "outputs": [],
   "source": [
    "b = []\n",
    "for price in soup.select('#contents .price-max em'):\n",
    "    b.append(price.text)\n",
    "    "
   ]
  },
  {
   "cell_type": "code",
   "execution_count": 52,
   "metadata": {
    "collapsed": false
   },
   "outputs": [
    {
     "data": {
      "text/plain": [
       "['1,040',\n",
       " '1,280',\n",
       " '800',\n",
       " '1,350',\n",
       " '850',\n",
       " '1,040',\n",
       " '2,360',\n",
       " '2,580',\n",
       " '2,580',\n",
       " '2,360',\n",
       " '1,280',\n",
       " '1,200',\n",
       " '2,580',\n",
       " '8,380',\n",
       " '3,000',\n",
       " '3,800',\n",
       " '3,300',\n",
       " '3,800',\n",
       " '4,500',\n",
       " '8,380',\n",
       " '15,900',\n",
       " '15,800',\n",
       " '9,800',\n",
       " '9,900',\n",
       " '15,900',\n",
       " '9,900',\n",
       " '16,900',\n",
       " '11,800',\n",
       " '11,800',\n",
       " '15,500',\n",
       " '9,800',\n",
       " '15,900',\n",
       " '9,800',\n",
       " '9,800',\n",
       " '~',\n",
       " '800',\n",
       " '7,900',\n",
       " '4,900',\n",
       " '2,360',\n",
       " '~',\n",
       " '14,400',\n",
       " '12,800',\n",
       " '15,500',\n",
       " '15,500']"
      ]
     },
     "execution_count": 52,
     "metadata": {},
     "output_type": "execute_result"
    }
   ],
   "source": [
    "b"
   ]
  },
  {
   "cell_type": "code",
   "execution_count": 53,
   "metadata": {
    "collapsed": false
   },
   "outputs": [],
   "source": [
    "dict = {}"
   ]
  },
  {
   "cell_type": "code",
   "execution_count": 57,
   "metadata": {
    "collapsed": false
   },
   "outputs": [
    {
     "name": "stdout",
     "output_type": "stream",
     "text": [
      "42\n",
      "44\n"
     ]
    }
   ],
   "source": [
    "print(len(a))\n",
    "print(len(b))"
   ]
  },
  {
   "cell_type": "code",
   "execution_count": 58,
   "metadata": {
    "collapsed": false
   },
   "outputs": [
    {
     "data": {
      "text/plain": [
       "2"
      ]
     },
     "execution_count": 58,
     "metadata": {},
     "output_type": "execute_result"
    }
   ],
   "source": [
    "b.count('~')"
   ]
  },
  {
   "cell_type": "code",
   "execution_count": 59,
   "metadata": {
    "collapsed": false
   },
   "outputs": [],
   "source": [
    "for i in range(b.count('~')):\n",
    "    b.remove('~')"
   ]
  },
  {
   "cell_type": "code",
   "execution_count": 71,
   "metadata": {
    "collapsed": false
   },
   "outputs": [
    {
     "data": {
      "text/plain": [
       "42"
      ]
     },
     "execution_count": 71,
     "metadata": {},
     "output_type": "execute_result"
    }
   ],
   "source": [
    "len(b)"
   ]
  },
  {
   "cell_type": "code",
   "execution_count": 72,
   "metadata": {
    "collapsed": false,
    "scrolled": true
   },
   "outputs": [
    {
     "name": "stdout",
     "output_type": "stream",
     "text": [
      "0\n",
      "1\n"
     ]
    }
   ],
   "source": [
    "dict\n",
    "for i in range(2):\n",
    "    print(i)"
   ]
  },
  {
   "cell_type": "raw",
   "metadata": {},
   "source": [
    "len(dict)\n",
    "print(a[0])\n",
    "print([a[len(a)-1]])"
   ]
  },
  {
   "cell_type": "code",
   "execution_count": 73,
   "metadata": {
    "collapsed": false
   },
   "outputs": [],
   "source": [
    "for i in range(len(a)):\n",
    "    dict[a[i]] = b[i]"
   ]
  },
  {
   "cell_type": "code",
   "execution_count": 74,
   "metadata": {
    "collapsed": false
   },
   "outputs": [
    {
     "data": {
      "text/plain": [
       "{'[부처스가든]프리미엄 이베리코 갈매기살 300g': '9,900',\n",
       " '[부처스가든]프리미엄 이베리코 갈매기살 500g': '15,900',\n",
       " '[부처스가든]프리미엄 이베리코 늑간살 300g': '9,800',\n",
       " '[부처스가든]프리미엄 이베리코 늑간살 500g': '15,500',\n",
       " '[부처스가든]프리미엄 이베리코 돈목살(구이용) 300g': '9,800',\n",
       " '[부처스가든]프리미엄 이베리코 돈목살(구이용) 500g': '15,800',\n",
       " '[부처스가든]프리미엄 이베리코 돈목살(샤브용) 300g': '9,900',\n",
       " '[부처스가든]프리미엄 이베리코 돈목살(샤브용) 500g': '15,900',\n",
       " '[부처스가든]프리미엄 이베리코 뽈살 300g': '9,800',\n",
       " '[부처스가든]프리미엄 이베리코 뽈살 500g': '15,900',\n",
       " '[부처스가든]프리미엄 이베리코 통갈비 600g': '11,800',\n",
       " '[부처스가든]프리미엄 이베리코 항정살 300g': '11,800',\n",
       " '[부처스가든]프리미엄 이베리코 항정살 500g': '16,900',\n",
       " '국내산 냉장 돼지 갈비(100G)': '1,280',\n",
       " '국내산 냉장 돼지 뒷다리(100G)': '850',\n",
       " '국내산 냉장 돼지 등갈비(100G)': '2,580',\n",
       " '국내산 냉장 돼지 등심(100G)': '1,200',\n",
       " '국내산 냉장 돼지 목심(100G)': '2,360',\n",
       " '국내산 냉장 돼지 삼겹살(100G)': '2,360',\n",
       " '국내산 냉장 돼지 앞다리(100G)': '1,350',\n",
       " '국내산 냉장 돼지 항정살(100g)': '3,000',\n",
       " '대패 목심 (수입산)': '8,380',\n",
       " '대패 삼겹살 (수입산)': '8,380',\n",
       " '멕시코산 돼지 목심 (냉장)': '1,040',\n",
       " '멕시코산 돼지 삼겹살 (냉장)': '1,040',\n",
       " '무항생제 돼지 뒷다리 (다짐용)(200G)': '3,300',\n",
       " '무항생제 돼지 등심 (잡채용)(200G)': '3,800',\n",
       " '무항생제 돼지 등심 (카레용)(200G)': '3,800',\n",
       " '무항생제 돼지 앞다리 (찌개용)(200G)': '4,500',\n",
       " '삼다돈 돼지고기': '800',\n",
       " '양고기 양갈비': '14,400',\n",
       " '양고기 어깨살': '12,800',\n",
       " '언제먹어도 맛있는 삼겹살&목심': '2,360',\n",
       " '제주 삼다돈 돼지 뒷다리(100G)': '800',\n",
       " '제주 삼다돈 돼지 목심(100G)': '2,580',\n",
       " '제주 삼다돈 돼지 삼겹살(100G)': '2,580',\n",
       " '제주 삼다돈 돼지 앞다리(100G)': '1,280',\n",
       " '초이스엘 냉동 대패 목심(800G)': '15,500',\n",
       " '초이스엘 냉동 대패 삼겹살(800G)': '15,500',\n",
       " '토담 장충동 미니족발 300g': '4,900',\n",
       " '토담 장충동 족발 1kg': '7,900',\n",
       " '프리미엄 이베리코 돼지고기': '9,800'}"
      ]
     },
     "execution_count": 74,
     "metadata": {},
     "output_type": "execute_result"
    }
   ],
   "source": [
    "dict"
   ]
  },
  {
   "cell_type": "code",
   "execution_count": null,
   "metadata": {
    "collapsed": true
   },
   "outputs": [],
   "source": []
  }
 ],
 "metadata": {
  "kernelspec": {
   "display_name": "Python 3",
   "language": "python",
   "name": "python3"
  },
  "language_info": {
   "codemirror_mode": {
    "name": "ipython",
    "version": 3
   },
   "file_extension": ".py",
   "mimetype": "text/x-python",
   "name": "python",
   "nbconvert_exporter": "python",
   "pygments_lexer": "ipython3",
   "version": "3.5.2"
  }
 },
 "nbformat": 4,
 "nbformat_minor": 2
}

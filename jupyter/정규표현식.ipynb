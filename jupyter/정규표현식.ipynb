{
 "cells": [
  {
   "cell_type": "code",
   "execution_count": 7,
   "metadata": {
    "collapsed": true
   },
   "outputs": [],
   "source": [
    "val = \"01032185466\""
   ]
  },
  {
   "cell_type": "code",
   "execution_count": 8,
   "metadata": {
    "collapsed": false
   },
   "outputs": [
    {
     "name": "stdout",
     "output_type": "stream",
     "text": [
      "ok\n"
     ]
    }
   ],
   "source": [
    "if len(val) ==11 and val[:3] in (\"010\",\"011\",\"016\" ):\n",
    "        print(\"ok\")"
   ]
  },
  {
   "cell_type": "markdown",
   "metadata": {},
   "source": [
    "### 정규표현식\n"
   ]
  },
  {
   "cell_type": "code",
   "execution_count": 9,
   "metadata": {
    "collapsed": false
   },
   "outputs": [
    {
     "name": "stdout",
     "output_type": "stream",
     "text": [
      "invalid\n"
     ]
    }
   ],
   "source": [
    "import re\n",
    "if re.match('^01[1-9]\\d{6,7}$',val):\n",
    "    print(\"matched\")\n",
    "else:\n",
    "    print(\"invalid\")"
   ]
  },
  {
   "cell_type": "code",
   "execution_count": 10,
   "metadata": {
    "collapsed": true
   },
   "outputs": [],
   "source": [
    "# 의미 최대 3자리 숫자 [0-9]{1,3} 또는 \\d{1,3}"
   ]
  },
  {
   "cell_type": "code",
   "execution_count": 11,
   "metadata": {
    "collapsed": true
   },
   "outputs": [],
   "source": [
    "# 한글이름 2글자 혹은 3글자 [ㄱ-힣]{2,3}"
   ]
  },
  {
   "cell_type": "code",
   "execution_count": 12,
   "metadata": {
    "collapsed": true
   },
   "outputs": [],
   "source": [
    "# 휴대폰번호 010[1-9]\\d{7}   역슬래쉬d는 d=decimal"
   ]
  },
  {
   "cell_type": "code",
   "execution_count": 13,
   "metadata": {
    "collapsed": true
   },
   "outputs": [],
   "source": [
    "# 성이 \"이 인 이름 \"이[ㄱ-힣]{1,2}"
   ]
  },
  {
   "cell_type": "code",
   "execution_count": 14,
   "metadata": {
    "collapsed": true
   },
   "outputs": [],
   "source": [
    "# 대괄호는 특정 한글자 !"
   ]
  },
  {
   "cell_type": "code",
   "execution_count": 15,
   "metadata": {
    "collapsed": true
   },
   "outputs": [],
   "source": [
    "# [0123456789] 이면 1~9까지 숫자중에 하나나올수잇음"
   ]
  },
  {
   "cell_type": "code",
   "execution_count": 16,
   "metadata": {
    "collapsed": true
   },
   "outputs": [],
   "source": [
    "# [a-z] 라고쓸수있음"
   ]
  },
  {
   "cell_type": "code",
   "execution_count": 17,
   "metadata": {
    "collapsed": false
   },
   "outputs": [
    {
     "data": {
      "text/plain": [
       "48"
      ]
     },
     "execution_count": 17,
     "metadata": {},
     "output_type": "execute_result"
    }
   ],
   "source": [
    "ord(\"0\")"
   ]
  },
  {
   "cell_type": "code",
   "execution_count": 18,
   "metadata": {
    "collapsed": false
   },
   "outputs": [
    {
     "data": {
      "text/plain": [
       "49"
      ]
     },
     "execution_count": 18,
     "metadata": {},
     "output_type": "execute_result"
    }
   ],
   "source": [
    "ord(\"1\")"
   ]
  },
  {
   "cell_type": "code",
   "execution_count": 19,
   "metadata": {
    "collapsed": false
   },
   "outputs": [
    {
     "data": {
      "text/plain": [
       "97"
      ]
     },
     "execution_count": 19,
     "metadata": {},
     "output_type": "execute_result"
    }
   ],
   "source": [
    "ord(\"a\")"
   ]
  },
  {
   "cell_type": "code",
   "execution_count": 20,
   "metadata": {
    "collapsed": true
   },
   "outputs": [],
   "source": [
    "\"\"\"\n",
    "010\n",
    "011\n",
    "016\n",
    "017\n",
    "019 까지 커버\n",
    "\"\"\"\n",
    "pattern = \"01[016789][1-9]\\\\d{6,7}\"\n",
    "# \\d{6,7} 1-9까지의숫자가, 6번또는 7번나온다"
   ]
  },
  {
   "cell_type": "code",
   "execution_count": 21,
   "metadata": {
    "collapsed": false
   },
   "outputs": [
    {
     "name": "stdout",
     "output_type": "stream",
     "text": [
      "matched\n"
     ]
    }
   ],
   "source": [
    "if re.match(pattern, val):\n",
    "    print(\"matched\")\n",
    "else:\n",
    "    print(\"invalid\")"
   ]
  },
  {
   "cell_type": "code",
   "execution_count": 22,
   "metadata": {
    "collapsed": true
   },
   "outputs": [],
   "source": [
    "val = \"01022222222abc\""
   ]
  },
  {
   "cell_type": "code",
   "execution_count": 23,
   "metadata": {
    "collapsed": false
   },
   "outputs": [
    {
     "name": "stdout",
     "output_type": "stream",
     "text": [
      "matched\n"
     ]
    }
   ],
   "source": [
    "if re.match(pattern, val):\n",
    "    print(\"matched\")\n",
    "else:\n",
    "    print(\"invalid\")"
   ]
  },
  {
   "cell_type": "code",
   "execution_count": 24,
   "metadata": {
    "collapsed": true
   },
   "outputs": [],
   "source": [
    "# 이것도 매치드되게 나옴. 그래서 문자의 시작과끝을\n",
    "#정해줌"
   ]
  },
  {
   "cell_type": "code",
   "execution_count": 25,
   "metadata": {
    "collapsed": true
   },
   "outputs": [],
   "source": [
    "pattern = \"^01[016789][1-9]\\\\d{6,7}$\""
   ]
  },
  {
   "cell_type": "code",
   "execution_count": 26,
   "metadata": {
    "collapsed": false
   },
   "outputs": [
    {
     "name": "stdout",
     "output_type": "stream",
     "text": [
      "invalid\n"
     ]
    }
   ],
   "source": [
    "if re.match(pattern, val):\n",
    "    print(\"matched\")\n",
    "else:\n",
    "    print(\"invalid\")\n",
    "    "
   ]
  },
  {
   "cell_type": "code",
   "execution_count": 27,
   "metadata": {
    "collapsed": true
   },
   "outputs": [],
   "source": [
    "# inavalid가 나옴"
   ]
  },
  {
   "cell_type": "code",
   "execution_count": 45,
   "metadata": {
    "collapsed": false
   },
   "outputs": [
    {
     "name": "stdout",
     "output_type": "stream",
     "text": [
      "//d\n",
      "/d\n"
     ]
    },
    {
     "data": {
      "text/plain": [
       "'/d'"
      ]
     },
     "execution_count": 45,
     "metadata": {},
     "output_type": "execute_result"
    }
   ],
   "source": [
    "pattern = \"^01[016789][1-9]\\\\d{6,7}$\"\n",
    "# 여기서 \\\\두개쓰는건 이스케이핑? 정규표현식에서\n",
    "# 슬래쉬 안먹히니까 쓰는거? 그건데 이걸그냥\n",
    "pattern = r\"^01[016789][1-9]\\d{6,7}$\" # /d는 일단 뭔가 숫자하나를 의미하는듯\n",
    "# pattern = r\"^01[016789][1-9]\\d\\d\\d\\d\\d\\d$\" 원래 이렇게 썼었음.   \n",
    "# r로 써서 대체함. 그러니 r 쓰는게 맞다 파이썬이 해석해줌. r = raw\n",
    "print(\"//d\")\n",
    "print(r\"/d\")\n",
    "\"//d\"\n",
    "r\"/d\""
   ]
  },
  {
   "cell_type": "code",
   "execution_count": 34,
   "metadata": {
    "collapsed": false
   },
   "outputs": [
    {
     "name": "stdout",
     "output_type": "stream",
     "text": [
      "invalid\n"
     ]
    }
   ],
   "source": [
    "if re.match(pattern, val):\n",
    "    print(\"matched\")\n",
    "else:\n",
    "    print(\"invalid\")\n",
    "    "
   ]
  },
  {
   "cell_type": "code",
   "execution_count": 46,
   "metadata": {
    "collapsed": true
   },
   "outputs": [],
   "source": [
    "# 휴대폰번호 매칭 함수 \n",
    "def validate_phone_number(number):\n",
    "    if not re.match(r'^01[01689][1-9]\\d{6,7}$', number):\n",
    "        return False\n",
    "    return True\n",
    "\n"
   ]
  },
  {
   "cell_type": "code",
   "execution_count": 36,
   "metadata": {
    "collapsed": false
   },
   "outputs": [
    {
     "name": "stdout",
     "output_type": "stream",
     "text": [
      "True\n",
      "False\n",
      "False\n"
     ]
    }
   ],
   "source": [
    "print(validate_phone_number('01032185466'))\n",
    "print(validate_phone_number('01032182'))\n",
    "print(validate_phone_number('01032185466a'))"
   ]
  },
  {
   "cell_type": "markdown",
   "metadata": {
    "collapsed": true
   },
   "source": [
    "### URLconf 정규표현식 매핑\n"
   ]
  },
  {
   "cell_type": "code",
   "execution_count": 37,
   "metadata": {
    "collapsed": true
   },
   "outputs": [],
   "source": [
    "#(?P) 이 영역의 문자열에 정규표현식을 적용해서\n",
    "# \\d+에 부합된다면\n",
    "# <x>라는 인자를 view함수에 넘긱겠다\n",
    "# 이거 정규식쓸땐 절대 url(r^admin , ***)\n",
    "# 저기 부분에서 에스자 몸내는 쓰지마라 이미 잠ㄴㅎ이 "
   ]
  },
  {
   "cell_type": "markdown",
   "metadata": {},
   "source": [
    "### URLconf"
   ]
  },
  {
   "cell_type": "code",
   "execution_count": 48,
   "metadata": {
    "collapsed": true
   },
   "outputs": [],
   "source": [
    "# 프로젝트 /settings.py에  최상위  루트 conf존재 \n",
    "# 그럼 그게 루트 url로 설정되는거고 . \n",
    "# urls.py 에는 반드시 리스트형 urlpatterns가 존재해야됨. \n",
    "# 특정 URL과 뷰 매핑 . http 요청 들어올때마다 리스트 훑으면서 \n",
    "# 검색함. 찾지못하면 404 띄움. "
   ]
  },
  {
   "cell_type": "code",
   "execution_count": 49,
   "metadata": {
    "collapsed": true
   },
   "outputs": [],
   "source": [
    "# 정규표현식 매핑 연습\n"
   ]
  },
  {
   "cell_type": "markdown",
   "metadata": {},
   "source": [
    "### (?P) : 이 영역의 문자열에 정규표현식을적용해서\n",
    "\\d+ : \\d + 패턴에 부합된다면\n",
    "<x> : x라는 변수명으로 인자를 넘기겠다.\n",
    "=> 다만 뷰의 인자로 넘겨받은 값들은 모두 문자열 타입"
   ]
  },
  {
   "cell_type": "code",
   "execution_count": null,
   "metadata": {
    "collapsed": true
   },
   "outputs": [],
   "source": [
    " "
   ]
  }
 ],
 "metadata": {
  "kernelspec": {
   "display_name": "Python 3",
   "language": "python",
   "name": "python3"
  },
  "language_info": {
   "codemirror_mode": {
    "name": "ipython",
    "version": 3
   },
   "file_extension": ".py",
   "mimetype": "text/x-python",
   "name": "python",
   "nbconvert_exporter": "python",
   "pygments_lexer": "ipython3",
   "version": "3.5.2"
  }
 },
 "nbformat": 4,
 "nbformat_minor": 2
}

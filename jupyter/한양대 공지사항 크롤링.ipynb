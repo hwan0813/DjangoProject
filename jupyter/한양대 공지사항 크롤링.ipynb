{
 "cells": [
  {
   "cell_type": "markdown",
   "metadata": {},
   "source": [
    "### 한양대 공지사항 크롤링"
   ]
  },
  {
   "cell_type": "code",
   "execution_count": 4,
   "metadata": {
    "collapsed": false
   },
   "outputs": [],
   "source": [
    "import requests\n",
    "from bs4 import BeautifulSoup\n",
    "\n",
    "url = \"http://www.hanyang.ac.kr/web/www/main-notices\"\n",
    "html = requests.get(url).text\n",
    "soup = BeautifulSoup(html,'html.parser')"
   ]
  },
  {
   "cell_type": "code",
   "execution_count": 26,
   "metadata": {
    "collapsed": false
   },
   "outputs": [],
   "source": [
    "notice = []\n",
    "date =[]\n",
    "for a_tag in soup.select('.title a'):\n",
    "    notice.append(a_tag.text)\n",
    "for a_tag in soup.select('.date'):\n",
    "    date.append(a_tag.text)"
   ]
  },
  {
   "cell_type": "code",
   "execution_count": 27,
   "metadata": {
    "collapsed": false
   },
   "outputs": [],
   "source": [
    "dict ={}\n",
    "for i in range(len(notice)):\n",
    "    dict[notice[i]] = date[i]"
   ]
  },
  {
   "cell_type": "code",
   "execution_count": 28,
   "metadata": {
    "collapsed": false
   },
   "outputs": [
    {
     "data": {
      "text/plain": [
       "['[서울,ERICA]2017-2학기 학부생 가계곤란대상자 생활장학금 지급안내',\n",
       " '2017학년도 여름 계절학기 강의평가 실시 안내',\n",
       " '[서울 커리어개발센터] 2017학년도 2학기 취업동아리 모집',\n",
       " '2017학년도 2학기 휴·복학 및 자진유급 신청 안내',\n",
       " '[학생생활관][제5학생생활관/행복기숙사] 중도퇴사자 발생에 따른 추가입사자 모집',\n",
       " '[ERICA]졸업유보 신청 기간 및 방법 안내',\n",
       " '[서울캠퍼스] 미취업 기졸업생 대상 Challenge Again 취업동아리 [2017-2학기]',\n",
       " '[국제팀] 2017-2 외국인학생 휴학 신청 안내',\n",
       " '[국제팀] 2017년도 2학기 외국인 학생 복학 신청 안내',\n",
       " '[서울] 2017년 8월 졸업예정자 졸업유보 신청안내']"
      ]
     },
     "execution_count": 28,
     "metadata": {},
     "output_type": "execute_result"
    }
   ],
   "source": [
    "notice"
   ]
  },
  {
   "cell_type": "code",
   "execution_count": 29,
   "metadata": {
    "collapsed": false
   },
   "outputs": [
    {
     "data": {
      "text/plain": [
       "[' 2017.07.11 ~ 2017.12.29 ',\n",
       " ' 2017.07.10 ~ 2017.07.21 ',\n",
       " ' 2017.07.06 ~ 2017.07.24 ',\n",
       " ' 2017.07.05 ~ 2017.08.04 ',\n",
       " ' 2017.07.04 ~ 2017.07.14 ',\n",
       " ' 2017.06.30 ~ 2017.07.25 ',\n",
       " ' 2017.06.30 ~ 2017.07.17 ',\n",
       " ' 2017.06.30 ~ 2017.08.31 ',\n",
       " ' 2017.06.30 ~ 2017.08.31 ',\n",
       " ' 2017.06.28 ~ 2017.07.14 ']"
      ]
     },
     "execution_count": 29,
     "metadata": {},
     "output_type": "execute_result"
    }
   ],
   "source": [
    "date"
   ]
  },
  {
   "cell_type": "code",
   "execution_count": 44,
   "metadata": {
    "collapsed": false
   },
   "outputs": [
    {
     "data": {
      "text/plain": [
       "{'2017학년도 2학기 휴·복학 및 자진유급 신청 안내': ' 2017.07.05 ~ 2017.08.04 ',\n",
       " '2017학년도 여름 계절학기 강의평가 실시 안내': ' 2017.07.10 ~ 2017.07.21 ',\n",
       " '[ERICA]졸업유보 신청 기간 및 방법 안내': ' 2017.06.30 ~ 2017.07.25 ',\n",
       " '[국제팀] 2017-2 외국인학생 휴학 신청 안내': ' 2017.06.30 ~ 2017.08.31 ',\n",
       " '[국제팀] 2017년도 2학기 외국인 학생 복학 신청 안내': ' 2017.06.30 ~ 2017.08.31 ',\n",
       " '[서울 커리어개발센터] 2017학년도 2학기 취업동아리 모집': ' 2017.07.06 ~ 2017.07.24 ',\n",
       " '[서울,ERICA]2017-2학기 학부생 가계곤란대상자 생활장학금 지급안내': ' 2017.07.11 ~ 2017.12.29 ',\n",
       " '[서울] 2017년 8월 졸업예정자 졸업유보 신청안내': ' 2017.06.28 ~ 2017.07.14 ',\n",
       " '[서울캠퍼스] 미취업 기졸업생 대상 Challenge Again 취업동아리 [2017-2학기]': ' 2017.06.30 ~ 2017.07.17 ',\n",
       " '[학생생활관][제5학생생활관/행복기숙사] 중도퇴사자 발생에 따른 추가입사자 모집': ' 2017.07.04 ~ 2017.07.14 '}"
      ]
     },
     "execution_count": 44,
     "metadata": {},
     "output_type": "execute_result"
    }
   ],
   "source": [
    "dict"
   ]
  },
  {
   "cell_type": "code",
   "execution_count": null,
   "metadata": {
    "collapsed": false
   },
   "outputs": [],
   "source": []
  },
  {
   "cell_type": "code",
   "execution_count": null,
   "metadata": {
    "collapsed": false
   },
   "outputs": [],
   "source": []
  },
  {
   "cell_type": "code",
   "execution_count": null,
   "metadata": {
    "collapsed": true
   },
   "outputs": [],
   "source": []
  }
 ],
 "metadata": {
  "kernelspec": {
   "display_name": "Python 3",
   "language": "python",
   "name": "python3"
  },
  "language_info": {
   "codemirror_mode": {
    "name": "ipython",
    "version": 3
   },
   "file_extension": ".py",
   "mimetype": "text/x-python",
   "name": "python",
   "nbconvert_exporter": "python",
   "pygments_lexer": "ipython3",
   "version": "3.5.2"
  }
 },
 "nbformat": 4,
 "nbformat_minor": 2
}

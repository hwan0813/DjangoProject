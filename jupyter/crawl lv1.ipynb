{
 "cells": [
  {
   "cell_type": "markdown",
   "metadata": {},
   "source": [
    "###  레벨 1 단순 HTML 크롤링"
   ]
  },
  {
   "cell_type": "code",
   "execution_count": 6,
   "metadata": {
    "collapsed": false
   },
   "outputs": [],
   "source": [
    "import requests\n",
    "from bs4 import BeautifulSoup\n",
    "\n",
    "lv1_url = 'https://askdjango.github.io/lv1/'\n",
    "html = requests.get(lv1_url).text # 긁어오기 \n",
    "soup = BeautifulSoup(html, 'html.parser') # html.parser로 파싱 뷰티풀숩."
   ]
  },
  {
   "cell_type": "code",
   "execution_count": 7,
   "metadata": {
    "collapsed": false
   },
   "outputs": [
    {
     "data": {
      "text/plain": [
       "<!DOCTYPE doctype html>\n",
       "\n",
       "<html lang=\"ko\">\n",
       "<head>\n",
       "<meta charset=\"utf-8\"/>\n",
       "<title>[레벨1] 단순 HTML 크롤링</title>\n",
       "<style>\n",
       "#logo {\n",
       "    max-width: 100%;\n",
       "}\n",
       "</style>\n",
       "</head>\n",
       "<body>\n",
       "<h1>AskDjango VOD</h1>\n",
       "<h2>[레벨1] 단순 HTML 크롤링</h2>\n",
       "<p>본 HTML에 크롤링할 데이터가 있습니다.</p>\n",
       "<ul id=\"course_list\">\n",
       "<li class=\"course\"><a href=\"https://nomade.kr/vod/setup/\">개발환경 구축하기</a></li>\n",
       "<li class=\"course\"><a href=\"https://nomade.kr/vod/python/\">파이썬 차근차근 시작하기</a></li>\n",
       "<li class=\"course\"><a href=\"https://nomade.kr/vod/crawling/\">크롤링 차근차근 시작하기</a></li>\n",
       "<li class=\"course\"><a href=\"https://nomade.kr/vod/automation/\">파이썬으로 업무 자동화</a></li>\n",
       "<li class=\"course\"><a href=\"https://nomade.kr/vod/django/\">장고 - 기본편</a></li>\n",
       "<li class=\"course\"><a href=\"https://nomade.kr/vod/djangogirls/\">장고걸스 튜토리얼</a></li>\n",
       "<li class=\"course\"><a href=\"https://nomade.kr/vod/form/\">장고 - Form/ModelForm 잘 알고 쓰기</a></li>\n",
       "<li class=\"course\"><a href=\"https://nomade.kr/vod/cbv/\">장고 - 클래스 기반 뷰. 잘 알고 쓰기</a></li>\n",
       "<li class=\"course\"><a href=\"https://nomade.kr/vod/payment/\">장고 - 결제 시스템 연동</a></li>\n",
       "<li class=\"course\"><a href=\"https://nomade.kr/vod/frontend/\">장고 - 웹 프론트엔드 시작편</a></li>\n",
       "<li class=\"course\"><a href=\"https://nomade.kr/vod/widgets/\">장고 - 다양한 위젯 만들기</a></li>\n",
       "<li class=\"course\"><a href=\"https://nomade.kr/vod/apiserver/\">장고 - API 서버 만들기 및 초간단 안드로이드 앱 만들기</a></li>\n",
       "<li class=\"course\"><a href=\"https://nomade.kr/vod/hybrid/\">장고 - 하이브리드 앱 만들기</a></li>\n",
       "<li class=\"course\"><a href=\"https://nomade.kr/vod/deploy/\">장고 - 서비스 배포하기</a></li>\n",
       "<li class=\"course\"><a href=\"https://nomade.kr/vod/django-baemin/\">장고 - 실전편 (Feat. 배달의 민족 St. 만들기)</a></li>\n",
       "<li class=\"course\"><a href=\"https://nomade.kr/vod/django-instagram/\">장고 - 실전편 (Feat. 인스타그램 St. 만들기)</a></li>\n",
       "</ul>\n",
       "<img id=\"logo\" src=\"https://nomade.kr/static/2017031408/nomadekr-og.jpg\"/>\n",
       "<hr/>\n",
       "<h3>미션</h3>\n",
       "<ul>\n",
       "<li>위 VOD 코스의 코스명과 URL을 크롤링</li>\n",
       "<li>제약사항 : requests 라이브러리만을 사용하세요.</li>\n",
       "</ul>\n",
       "\n",
       "실행 예시\n",
       "\n",
       "<pre>\n",
       "    개발환경 구축하기 https://nomade.kr/vod/setup/\n",
       "    파이썬 차근차근 시작하기 https://nomade.kr/vod/python/\n",
       "    크롤링 차근차근 시작하기 https://nomade.kr/vod/crawling/\n",
       "    파이썬으로 업무 자동화 https://nomade.kr/vod/automation/\n",
       "    장고 - 기본편 https://nomade.kr/vod/django/\n",
       "    장고걸스 튜토리얼 https://nomade.kr/vod/djangogirls/\n",
       "    장고 - Form/ModelForm 잘 알고 쓰기 https://nomade.kr/vod/form/\n",
       "    장고 - 클래스 기반 뷰. 잘 알고 쓰기 https://nomade.kr/vod/cbv/\n",
       "    장고 - 결제 시스템 연동 https://nomade.kr/vod/payment/\n",
       "    장고 - 웹 프론트엔드 시작편 https://nomade.kr/vod/frontend/\n",
       "    장고 - 다양한 위젯 만들기 https://nomade.kr/vod/widgets/\n",
       "    장고 - API 서버 만들기 및 초간단 안드로이드 앱 만들기 https://nomade.kr/vod/apiserver/\n",
       "    장고 - 하이브리드 앱 만들기 https://nomade.kr/vod/hybrid/\n",
       "    장고 - 서비스 배포하기 https://nomade.kr/vod/deploy/\n",
       "    장고 - 실전편 (Feat. 배달의 민족 St. 만들기) https://nomade.kr/vod/django-baemin/\n",
       "    장고 - 실전편 (Feat. 인스타그램 St. 만들기) https://nomade.kr/vod/django-instagram/\n",
       "</pre>\n",
       "<p>AskDjango 크롤링 VOD를 통해 크롤링의 기본을 배우고, 꾸준히 크롤링을 연습해보세요.</p>\n",
       "<hr/>\n",
       "<p><a href=\"/\">home</a></p>\n",
       "<p>\n",
       "    여러분의 파이썬/장고 페이스메이커가 되겠습니다. &amp;dash; <a href=\"https://nomade.kr/vod/\">AskDjango VOD</a>\n",
       "</p>\n",
       "<p>\n",
       "    ©\n",
       "    <script>document.write((new Date()).getYear() + 1900);</script>\n",
       "    SHAKEADE\n",
       "</p>\n",
       "</body>\n",
       "</html>"
      ]
     },
     "execution_count": 7,
     "metadata": {},
     "output_type": "execute_result"
    }
   ],
   "source": [
    "soup"
   ]
  },
  {
   "cell_type": "code",
   "execution_count": 9,
   "metadata": {
    "collapsed": true
   },
   "outputs": [],
   "source": [
    "# BeautifulSoup의 css selector 기능을 활용할 것이다.\n",
    "# ul 태그에서 아이디가 course_list가 있고 l클래스가 코스트인것."
   ]
  },
  {
   "cell_type": "code",
   "execution_count": 24,
   "metadata": {
    "collapsed": false
   },
   "outputs": [
    {
     "name": "stdout",
     "output_type": "stream",
     "text": [
      "<a href=\"https://nomade.kr/vod/setup/\">개발환경 구축하기</a>\n",
      "<a href=\"https://nomade.kr/vod/python/\">파이썬 차근차근 시작하기</a>\n",
      "<a href=\"https://nomade.kr/vod/crawling/\">크롤링 차근차근 시작하기</a>\n",
      "<a href=\"https://nomade.kr/vod/automation/\">파이썬으로 업무 자동화</a>\n",
      "<a href=\"https://nomade.kr/vod/django/\">장고 - 기본편</a>\n",
      "<a href=\"https://nomade.kr/vod/djangogirls/\">장고걸스 튜토리얼</a>\n",
      "<a href=\"https://nomade.kr/vod/form/\">장고 - Form/ModelForm 잘 알고 쓰기</a>\n",
      "<a href=\"https://nomade.kr/vod/cbv/\">장고 - 클래스 기반 뷰. 잘 알고 쓰기</a>\n",
      "<a href=\"https://nomade.kr/vod/payment/\">장고 - 결제 시스템 연동</a>\n",
      "<a href=\"https://nomade.kr/vod/frontend/\">장고 - 웹 프론트엔드 시작편</a>\n",
      "<a href=\"https://nomade.kr/vod/widgets/\">장고 - 다양한 위젯 만들기</a>\n",
      "<a href=\"https://nomade.kr/vod/apiserver/\">장고 - API 서버 만들기 및 초간단 안드로이드 앱 만들기</a>\n",
      "<a href=\"https://nomade.kr/vod/hybrid/\">장고 - 하이브리드 앱 만들기</a>\n",
      "<a href=\"https://nomade.kr/vod/deploy/\">장고 - 서비스 배포하기</a>\n",
      "<a href=\"https://nomade.kr/vod/django-baemin/\">장고 - 실전편 (Feat. 배달의 민족 St. 만들기)</a>\n",
      "<a href=\"https://nomade.kr/vod/django-instagram/\">장고 - 실전편 (Feat. 인스타그램 St. 만들기)</a>\n"
     ]
    }
   ],
   "source": [
    "for a_tag in soup.select('#course_list .course a '): # list 다음에 한칸띄워야되네 \n",
    "    print(a_tag)"
   ]
  },
  {
   "cell_type": "code",
   "execution_count": 26,
   "metadata": {
    "collapsed": false
   },
   "outputs": [
    {
     "name": "stdout",
     "output_type": "stream",
     "text": [
      "https://nomade.kr/vod/setup/\n",
      "https://nomade.kr/vod/python/\n",
      "https://nomade.kr/vod/crawling/\n",
      "https://nomade.kr/vod/automation/\n",
      "https://nomade.kr/vod/django/\n",
      "https://nomade.kr/vod/djangogirls/\n",
      "https://nomade.kr/vod/form/\n",
      "https://nomade.kr/vod/cbv/\n",
      "https://nomade.kr/vod/payment/\n",
      "https://nomade.kr/vod/frontend/\n",
      "https://nomade.kr/vod/widgets/\n",
      "https://nomade.kr/vod/apiserver/\n",
      "https://nomade.kr/vod/hybrid/\n",
      "https://nomade.kr/vod/deploy/\n",
      "https://nomade.kr/vod/django-baemin/\n",
      "https://nomade.kr/vod/django-instagram/\n"
     ]
    }
   ],
   "source": [
    "for a_tag in soup.select('#course_list .course a '): # list 다음에 한칸띄워야되네 \n",
    "    print(a_tag['href']) # a 태그에서 키 , 밸류로 이루어졌다고보고 href가 키인것들 뽑는것"
   ]
  },
  {
   "cell_type": "code",
   "execution_count": 28,
   "metadata": {
    "collapsed": false
   },
   "outputs": [
    {
     "name": "stdout",
     "output_type": "stream",
     "text": [
      "개발환경 구축하기\n",
      "파이썬 차근차근 시작하기\n",
      "크롤링 차근차근 시작하기\n",
      "파이썬으로 업무 자동화\n",
      "장고 - 기본편\n",
      "장고걸스 튜토리얼\n",
      "장고 - Form/ModelForm 잘 알고 쓰기\n",
      "장고 - 클래스 기반 뷰. 잘 알고 쓰기\n",
      "장고 - 결제 시스템 연동\n",
      "장고 - 웹 프론트엔드 시작편\n",
      "장고 - 다양한 위젯 만들기\n",
      "장고 - API 서버 만들기 및 초간단 안드로이드 앱 만들기\n",
      "장고 - 하이브리드 앱 만들기\n",
      "장고 - 서비스 배포하기\n",
      "장고 - 실전편 (Feat. 배달의 민족 St. 만들기)\n",
      "장고 - 실전편 (Feat. 인스타그램 St. 만들기)\n"
     ]
    }
   ],
   "source": [
    "for a_tag in soup.select('#course_list .course a '): # list 다음에 한칸띄워야되네 \n",
    "    print(a_tag.get_text()) # 이것도 사용할 수는 있다."
   ]
  },
  {
   "cell_type": "code",
   "execution_count": 31,
   "metadata": {
    "collapsed": false
   },
   "outputs": [
    {
     "name": "stdout",
     "output_type": "stream",
     "text": [
      "개발환경 구축하기\n",
      "https://nomade.kr/vod/setup/\n",
      "파이썬 차근차근 시작하기\n",
      "https://nomade.kr/vod/python/\n",
      "크롤링 차근차근 시작하기\n",
      "https://nomade.kr/vod/crawling/\n",
      "파이썬으로 업무 자동화\n",
      "https://nomade.kr/vod/automation/\n",
      "장고 - 기본편\n",
      "https://nomade.kr/vod/django/\n",
      "장고걸스 튜토리얼\n",
      "https://nomade.kr/vod/djangogirls/\n",
      "장고 - Form/ModelForm 잘 알고 쓰기\n",
      "https://nomade.kr/vod/form/\n",
      "장고 - 클래스 기반 뷰. 잘 알고 쓰기\n",
      "https://nomade.kr/vod/cbv/\n",
      "장고 - 결제 시스템 연동\n",
      "https://nomade.kr/vod/payment/\n",
      "장고 - 웹 프론트엔드 시작편\n",
      "https://nomade.kr/vod/frontend/\n",
      "장고 - 다양한 위젯 만들기\n",
      "https://nomade.kr/vod/widgets/\n",
      "장고 - API 서버 만들기 및 초간단 안드로이드 앱 만들기\n",
      "https://nomade.kr/vod/apiserver/\n",
      "장고 - 하이브리드 앱 만들기\n",
      "https://nomade.kr/vod/hybrid/\n",
      "장고 - 서비스 배포하기\n",
      "https://nomade.kr/vod/deploy/\n",
      "장고 - 실전편 (Feat. 배달의 민족 St. 만들기)\n",
      "https://nomade.kr/vod/django-baemin/\n",
      "장고 - 실전편 (Feat. 인스타그램 St. 만들기)\n",
      "https://nomade.kr/vod/django-instagram/\n"
     ]
    }
   ],
   "source": [
    "for a_tag in soup.select('#course_list .course a '): # list 다음에 한칸띄워야되네 \n",
    "    print(a_tag.text) # 이것도 된다함. property?를 지원해서 더 쉽게 가져올수있다함. \n",
    "    print(a_tag['href'])"
   ]
  },
  {
   "cell_type": "markdown",
   "metadata": {},
   "source": [
    "### 렙2 Ajax 렌더링 크롤링"
   ]
  },
  {
   "cell_type": "code",
   "execution_count": 32,
   "metadata": {
    "collapsed": true
   },
   "outputs": [],
   "source": [
    "# 페이지소스보기하면 단순 html 크롤링 불가함. 가져와야될 부분이 비어있음.\n",
    "# 그냥 course_list만 있음"
   ]
  },
  {
   "cell_type": "code",
   "execution_count": 33,
   "metadata": {
    "collapsed": true
   },
   "outputs": [],
   "source": [
    "import requests\n",
    "\n",
    "lv2_data_json_url = 'https://askdjango.github.io/lv2/data.json'\n",
    "\n",
    "json_string = requests.get(lv2_data_json_url).text"
   ]
  },
  {
   "cell_type": "code",
   "execution_count": 34,
   "metadata": {
    "collapsed": false
   },
   "outputs": [
    {
     "data": {
      "text/plain": [
       "'[\\n    {\\n        \"name\": \"개발환경 구축하기\",\\n        \"url\": \"https://nomade.kr/vod/setup/\"\\n    },\\n    {\\n        \"name\": \"파이썬 차근차근 시작하기\",\\n        \"url\": \"https://nomade.kr/vod/python/\"\\n    },\\n    {\\n        \"name\": \"크롤링 차근차근 시작하기\",\\n        \"url\": \"https://nomade.kr/vod/crawling/\"\\n    },\\n    {\\n        \"name\": \"파이썬으로 업무 자동화\",\\n        \"url\": \"https://nomade.kr/vod/automation/\"\\n    },\\n    {\\n        \"name\": \"장고 - 기본편\",\\n        \"url\": \"https://nomade.kr/vod/django/\"\\n    },\\n    {\\n        \"name\": \"장고걸스 튜토리얼\",\\n        \"url\": \"https://nomade.kr/vod/djangogirls/\"\\n    },\\n    {\\n        \"name\": \"장고 - Form/ModelForm 잘 알고 쓰기\",\\n        \"url\": \"https://nomade.kr/vod/form/\"\\n    },\\n    {\\n        \"name\": \"장고 - 클래스 기반 뷰. 잘 알고 쓰기\",\\n        \"url\": \"https://nomade.kr/vod/cbv/\"\\n    },\\n    {\\n        \"name\": \"장고 - 결제 시스템 연동\",\\n        \"url\": \"https://nomade.kr/vod/payment/\"\\n    },\\n    {\\n        \"name\": \"장고 - 웹 프론트엔드 시작편\",\\n        \"url\": \"https://nomade.kr/vod/frontend/\"\\n    },\\n    {\\n        \"name\": \"장고 - 다양한 위젯 만들기\",\\n        \"url\": \"https://nomade.kr/vod/widgets/\"\\n    },\\n    {\\n        \"name\": \"장고 - API 서버 만들기 및 초간단 안드로이드 앱 만들기\",\\n        \"url\": \"https://nomade.kr/vod/apiserver/\"\\n    },\\n    {\\n        \"name\": \"장고 - 하이브리드 앱 만들기\",\\n        \"url\": \"https://nomade.kr/vod/hybrid/\"\\n    },\\n    {\\n        \"name\": \"장고 - 서비스 배포하기\",\\n        \"url\": \"https://nomade.kr/vod/deploy/\"\\n    },\\n    {\\n        \"name\": \"장고 - 실전편 (Feat. 배달의 민족 St. 만들기)\",\\n        \"url\": \"https://nomade.kr/vod/django-baemin/\"\\n    },\\n    {\\n        \"name\": \"장고 - 실전편 (Feat. 인스타그램 St. 만들기)\",\\n        \"url\": \"https://nomade.kr/vod/django-instagram/\"\\n    }\\n]\\n'"
      ]
     },
     "execution_count": 34,
     "metadata": {},
     "output_type": "execute_result"
    }
   ],
   "source": [
    "json_string"
   ]
  },
  {
   "cell_type": "code",
   "execution_count": 40,
   "metadata": {
    "collapsed": true
   },
   "outputs": [],
   "source": [
    "# data.json 페이지를 보면 리스트와 비슷하다. "
   ]
  },
  {
   "cell_type": "code",
   "execution_count": 48,
   "metadata": {
    "collapsed": true
   },
   "outputs": [],
   "source": [
    "import json  #파이썬 내장 된 json\n",
    "\n",
    "course_list = json.loads(json_string)  # 이렇게 하면 바뀐다함. "
   ]
  },
  {
   "cell_type": "code",
   "execution_count": 49,
   "metadata": {
    "collapsed": false
   },
   "outputs": [
    {
     "data": {
      "text/plain": [
       "list"
      ]
     },
     "execution_count": 49,
     "metadata": {},
     "output_type": "execute_result"
    }
   ],
   "source": [
    "course_list.__class__ # 리스트 인것을 확인. "
   ]
  },
  {
   "cell_type": "code",
   "execution_count": 50,
   "metadata": {
    "collapsed": false
   },
   "outputs": [
    {
     "data": {
      "text/plain": [
       "[{'name': '개발환경 구축하기', 'url': 'https://nomade.kr/vod/setup/'},\n",
       " {'name': '파이썬 차근차근 시작하기', 'url': 'https://nomade.kr/vod/python/'},\n",
       " {'name': '크롤링 차근차근 시작하기', 'url': 'https://nomade.kr/vod/crawling/'},\n",
       " {'name': '파이썬으로 업무 자동화', 'url': 'https://nomade.kr/vod/automation/'},\n",
       " {'name': '장고 - 기본편', 'url': 'https://nomade.kr/vod/django/'},\n",
       " {'name': '장고걸스 튜토리얼', 'url': 'https://nomade.kr/vod/djangogirls/'},\n",
       " {'name': '장고 - Form/ModelForm 잘 알고 쓰기', 'url': 'https://nomade.kr/vod/form/'},\n",
       " {'name': '장고 - 클래스 기반 뷰. 잘 알고 쓰기', 'url': 'https://nomade.kr/vod/cbv/'},\n",
       " {'name': '장고 - 결제 시스템 연동', 'url': 'https://nomade.kr/vod/payment/'},\n",
       " {'name': '장고 - 웹 프론트엔드 시작편', 'url': 'https://nomade.kr/vod/frontend/'},\n",
       " {'name': '장고 - 다양한 위젯 만들기', 'url': 'https://nomade.kr/vod/widgets/'},\n",
       " {'name': '장고 - API 서버 만들기 및 초간단 안드로이드 앱 만들기',\n",
       "  'url': 'https://nomade.kr/vod/apiserver/'},\n",
       " {'name': '장고 - 하이브리드 앱 만들기', 'url': 'https://nomade.kr/vod/hybrid/'},\n",
       " {'name': '장고 - 서비스 배포하기', 'url': 'https://nomade.kr/vod/deploy/'},\n",
       " {'name': '장고 - 실전편 (Feat. 배달의 민족 St. 만들기)',\n",
       "  'url': 'https://nomade.kr/vod/django-baemin/'},\n",
       " {'name': '장고 - 실전편 (Feat. 인스타그램 St. 만들기)',\n",
       "  'url': 'https://nomade.kr/vod/django-instagram/'}]"
      ]
     },
     "execution_count": 50,
     "metadata": {},
     "output_type": "execute_result"
    }
   ],
   "source": [
    "course_list"
   ]
  },
  {
   "cell_type": "code",
   "execution_count": 51,
   "metadata": {
    "collapsed": false
   },
   "outputs": [
    {
     "data": {
      "text/plain": [
       "{'name': '개발환경 구축하기', 'url': 'https://nomade.kr/vod/setup/'}"
      ]
     },
     "execution_count": 51,
     "metadata": {},
     "output_type": "execute_result"
    }
   ],
   "source": [
    "course_list[0]"
   ]
  },
  {
   "cell_type": "code",
   "execution_count": 52,
   "metadata": {
    "collapsed": false
   },
   "outputs": [
    {
     "data": {
      "text/plain": [
       "'https://nomade.kr/vod/setup/'"
      ]
     },
     "execution_count": 52,
     "metadata": {},
     "output_type": "execute_result"
    }
   ],
   "source": [
    "course_list[0]['url']"
   ]
  },
  {
   "cell_type": "code",
   "execution_count": 53,
   "metadata": {
    "collapsed": true
   },
   "outputs": [],
   "source": [
    "# 이제 이 부분 순회가능."
   ]
  },
  {
   "cell_type": "code",
   "execution_count": 54,
   "metadata": {
    "collapsed": false
   },
   "outputs": [
    {
     "name": "stdout",
     "output_type": "stream",
     "text": [
      "개발환경 구축하기 https://nomade.kr/vod/setup/\n",
      "파이썬 차근차근 시작하기 https://nomade.kr/vod/python/\n",
      "크롤링 차근차근 시작하기 https://nomade.kr/vod/crawling/\n",
      "파이썬으로 업무 자동화 https://nomade.kr/vod/automation/\n",
      "장고 - 기본편 https://nomade.kr/vod/django/\n",
      "장고걸스 튜토리얼 https://nomade.kr/vod/djangogirls/\n",
      "장고 - Form/ModelForm 잘 알고 쓰기 https://nomade.kr/vod/form/\n",
      "장고 - 클래스 기반 뷰. 잘 알고 쓰기 https://nomade.kr/vod/cbv/\n",
      "장고 - 결제 시스템 연동 https://nomade.kr/vod/payment/\n",
      "장고 - 웹 프론트엔드 시작편 https://nomade.kr/vod/frontend/\n",
      "장고 - 다양한 위젯 만들기 https://nomade.kr/vod/widgets/\n",
      "장고 - API 서버 만들기 및 초간단 안드로이드 앱 만들기 https://nomade.kr/vod/apiserver/\n",
      "장고 - 하이브리드 앱 만들기 https://nomade.kr/vod/hybrid/\n",
      "장고 - 서비스 배포하기 https://nomade.kr/vod/deploy/\n",
      "장고 - 실전편 (Feat. 배달의 민족 St. 만들기) https://nomade.kr/vod/django-baemin/\n",
      "장고 - 실전편 (Feat. 인스타그램 St. 만들기) https://nomade.kr/vod/django-instagram/\n"
     ]
    }
   ],
   "source": [
    "for course in course_list:\n",
    "    print(course['name'] , course['url'])"
   ]
  },
  {
   "cell_type": "code",
   "execution_count": 55,
   "metadata": {
    "collapsed": true
   },
   "outputs": [],
   "source": [
    "# 결과는 같지만 방식이 다름. Ajax렌더링"
   ]
  },
  {
   "cell_type": "code",
   "execution_count": 58,
   "metadata": {
    "collapsed": false
   },
   "outputs": [
    {
     "name": "stdout",
     "output_type": "stream",
     "text": [
      "개발환경 구축하기 https://nomade.kr/vod/setup/\n",
      "파이썬 차근차근 시작하기 https://nomade.kr/vod/python/\n",
      "크롤링 차근차근 시작하기 https://nomade.kr/vod/crawling/\n",
      "파이썬으로 업무 자동화 https://nomade.kr/vod/automation/\n",
      "장고 - 기본편 https://nomade.kr/vod/django/\n",
      "장고걸스 튜토리얼 https://nomade.kr/vod/djangogirls/\n",
      "장고 - Form/ModelForm 잘 알고 쓰기 https://nomade.kr/vod/form/\n",
      "장고 - 클래스 기반 뷰. 잘 알고 쓰기 https://nomade.kr/vod/cbv/\n",
      "장고 - 결제 시스템 연동 https://nomade.kr/vod/payment/\n",
      "장고 - 웹 프론트엔드 시작편 https://nomade.kr/vod/frontend/\n",
      "장고 - 다양한 위젯 만들기 https://nomade.kr/vod/widgets/\n",
      "장고 - API 서버 만들기 및 초간단 안드로이드 앱 만들기 https://nomade.kr/vod/apiserver/\n",
      "장고 - 하이브리드 앱 만들기 https://nomade.kr/vod/hybrid/\n",
      "장고 - 서비스 배포하기 https://nomade.kr/vod/deploy/\n",
      "장고 - 실전편 (Feat. 배달의 민족 St. 만들기) https://nomade.kr/vod/django-baemin/\n",
      "장고 - 실전편 (Feat. 인스타그램 St. 만들기) https://nomade.kr/vod/django-instagram/\n"
     ]
    }
   ],
   "source": [
    "for course in course_list:\n",
    "    #print(course['name'] , course['url'])\n",
    "    print('{name} {url}'.format(**course)) # 사전이니까 가능한것..?! 새롭게 지원되는\n",
    "    #문자열지원방식임"
   ]
  },
  {
   "cell_type": "markdown",
   "metadata": {},
   "source": [
    "### 레벨 3 자바 스크립트 렌더링 크롤링 "
   ]
  },
  {
   "cell_type": "code",
   "execution_count": 61,
   "metadata": {
    "collapsed": false
   },
   "outputs": [],
   "source": [
    "import re # 정규표현식을 위해\n",
    "import requests\n",
    "\n",
    "lv3_url = 'https://askdjango.github.io/lv3/'"
   ]
  },
  {
   "cell_type": "code",
   "execution_count": 62,
   "metadata": {
    "collapsed": true
   },
   "outputs": [],
   "source": [
    "html = requests.get(lv3_url).text"
   ]
  },
  {
   "cell_type": "code",
   "execution_count": 65,
   "metadata": {
    "collapsed": false
   },
   "outputs": [],
   "source": [
    "# 세미콜론으로 끝난다는것을 염두"
   ]
  },
  {
   "cell_type": "code",
   "execution_count": 72,
   "metadata": {
    "collapsed": false
   },
   "outputs": [],
   "source": [
    "matched = re.search(r'var courses = (.+);', html, re.S)"
   ]
  },
  {
   "cell_type": "code",
   "execution_count": 73,
   "metadata": {
    "collapsed": false
   },
   "outputs": [
    {
     "name": "stdout",
     "output_type": "stream",
     "text": [
      "[\n",
      "        {\"name\": \"개발환경 구축하기\", \"url\": \"https://nomade.kr/vod/setup/\"},\n",
      "        {\"name\": \"파이썬 차근차근 시작하기\", \"url\": \"https://nomade.kr/vod/python/\"},\n",
      "        {\"name\": \"크롤링 차근차근 시작하기\", \"url\": \"https://nomade.kr/vod/crawling/\"},\n",
      "        {\"name\": \"파이썬으로 업무 자동화\", \"url\": \"https://nomade.kr/vod/automation/\"},\n",
      "        {\"name\": \"장고 - 기본편\", \"url\": \"https://nomade.kr/vod/django/\"},\n",
      "        {\"name\": \"장고걸스 튜토리얼\", \"url\": \"https://nomade.kr/vod/djangogirls/\"},\n",
      "        {\"name\": \"장고 - Form/ModelForm 잘 알고 쓰기\", \"url\": \"https://nomade.kr/vod/form/\"},\n",
      "        {\"name\": \"장고 - 클래스 기반 뷰. 잘 알고 쓰기\", \"url\": \"https://nomade.kr/vod/cbv/\"},\n",
      "        {\"name\": \"장고 - 결제 시스템 연동\", \"url\": \"https://nomade.kr/vod/payment/\"},\n",
      "        {\"name\": \"장고 - 웹 프론트엔드 시작편\", \"url\": \"https://nomade.kr/vod/frontend/\"},\n",
      "        {\"name\": \"장고 - 다양한 위젯 만들기\", \"url\": \"https://nomade.kr/vod/widgets/\"},\n",
      "        {\"name\": \"장고 - API 서버 만들기 및 초간단 안드로이드 앱 만들기\", \"url\": \"https://nomade.kr/vod/apiserver/\"},\n",
      "        {\"name\": \"장고 - 하이브리드 앱 만들기\", \"url\": \"https://nomade.kr/vod/hybrid/\"},\n",
      "        {\"name\": \"장고 - 서비스 배포하기\", \"url\": \"https://nomade.kr/vod/deploy/\"},\n",
      "        {\"name\": \"장고 - 실전편 (Feat. 배달의 민족 St. 만들기)\", \"url\": \"https://nomade.kr/vod/django-baemin/\"},\n",
      "        {\"name\": \"장고 - 실전편 (Feat. 인스타그램 St. 만들기)\", \"url\": \"https://nomade.kr/vod/django-instagram/\"}\n",
      "    ];\n",
      "    $.each(courses, function(idx, course) {\n",
      "        var html = '<li class=\"course\"><a href=\"' + course.url + '\">' + course.name + '</a></li>';\n",
      "        $('#course_list').append($(html));\n",
      "    });\n",
      "});\n",
      "</script>\n",
      "</head>\n",
      "<body>\n",
      "<h1>AskDjango VOD</h1>\n",
      "\n",
      "<h2>[레벨3] 자바스크립트 렌더링 크롤링</h2>\n",
      "\n",
      "<p>본 페이지는 Ajax를 통해 데이터를 받아와서, 자바스크립트로 컨텐츠가 추가됩니다.</p>\n",
      "\n",
      "<ul id=\"course_list\">\n",
      "</ul>\n",
      "\n",
      "<img src=\"https://nomade.kr/static/2017031408/nomadekr-og.jpg\" id=\"logo\" />\n",
      "\n",
      "<hr/>\n",
      "\n",
      "<h3>미션</h3>\n",
      "\n",
      "<ul>\n",
      "    <li>위 VOD 코스의 코스명과 URL을 크롤링</li>\n",
      "    <li>제약사항 : requests 라이브러리만을 사용하세요.</li>\n",
      "</ul>\n",
      "\n",
      "실행 예시\n",
      "\n",
      "<pre>\n",
      "    개발환경 구축하기 https://nomade.kr/vod/setup/\n",
      "    파이썬 차근차근 시작하기 https://nomade.kr/vod/python/\n",
      "    크롤링 차근차근 시작하기 https://nomade.kr/vod/crawling/\n",
      "    파이썬으로 업무 자동화 https://nomade.kr/vod/automation/\n",
      "    장고 - 기본편 https://nomade.kr/vod/django/\n",
      "    장고걸스 튜토리얼 https://nomade.kr/vod/djangogirls/\n",
      "    장고 - Form/ModelForm 잘 알고 쓰기 https://nomade.kr/vod/form/\n",
      "    장고 - 클래스 기반 뷰. 잘 알고 쓰기 https://nomade.kr/vod/cbv/\n",
      "    장고 - 결제 시스템 연동 https://nomade.kr/vod/payment/\n",
      "    장고 - 웹 프론트엔드 시작편 https://nomade.kr/vod/frontend/\n",
      "    장고 - 다양한 위젯 만들기 https://nomade.kr/vod/widgets/\n",
      "    장고 - API 서버 만들기 및 초간단 안드로이드 앱 만들기 https://nomade.kr/vod/apiserver/\n",
      "    장고 - 하이브리드 앱 만들기 https://nomade.kr/vod/hybrid/\n",
      "    장고 - 서비스 배포하기 https://nomade.kr/vod/deploy/\n",
      "    장고 - 실전편 (Feat. 배달의 민족 St. 만들기) https://nomade.kr/vod/django-baemin/\n",
      "    장고 - 실전편 (Feat. 인스타그램 St. 만들기) https://nomade.kr/vod/django-instagram/\n",
      "</pre>\n",
      "\n",
      "<p>AskDjango 크롤링 VOD를 통해 크롤링의 기본을 배우고, 꾸준히 크롤링을 연습해보세요.</p>\n",
      "\n",
      "<hr/>\n",
      "    <p><a href=\"/\">home</a></p>\n",
      "    <p>\n",
      "    여러분의 파이썬/장고 페이스메이커가 되겠습니다. &dash; <a href=\"https://nomade.kr/vod/\">AskDjango VOD</a>\n",
      "    </p>\n",
      "    <p>\n",
      "    &copy;\n",
      "    <script>document.write((new Date()).getYear() + 1900)\n"
     ]
    }
   ],
   "source": [
    "print(matched.group(1))"
   ]
  },
  {
   "cell_type": "code",
   "execution_count": 74,
   "metadata": {
    "collapsed": true
   },
   "outputs": [],
   "source": [
    "#쓸데없이 추가되는 것이 많다."
   ]
  },
  {
   "cell_type": "code",
   "execution_count": 75,
   "metadata": {
    "collapsed": true
   },
   "outputs": [],
   "source": [
    "# 세미콜론이 있는 가장 큰 범위까지 긁어왔기 때문. 지금현재 최대매칭"
   ]
  },
  {
   "cell_type": "code",
   "execution_count": 76,
   "metadata": {
    "collapsed": true
   },
   "outputs": [],
   "source": [
    "#난 최소매칭으로 해야함. "
   ]
  },
  {
   "cell_type": "code",
   "execution_count": 79,
   "metadata": {
    "collapsed": true
   },
   "outputs": [],
   "source": [
    "matched = re.search(r'var courses = (.+?);', html, re.S)  #물음표를 붙이면 최소매칭이됨."
   ]
  },
  {
   "cell_type": "code",
   "execution_count": 80,
   "metadata": {
    "collapsed": false
   },
   "outputs": [
    {
     "name": "stdout",
     "output_type": "stream",
     "text": [
      "[\n",
      "        {\"name\": \"개발환경 구축하기\", \"url\": \"https://nomade.kr/vod/setup/\"},\n",
      "        {\"name\": \"파이썬 차근차근 시작하기\", \"url\": \"https://nomade.kr/vod/python/\"},\n",
      "        {\"name\": \"크롤링 차근차근 시작하기\", \"url\": \"https://nomade.kr/vod/crawling/\"},\n",
      "        {\"name\": \"파이썬으로 업무 자동화\", \"url\": \"https://nomade.kr/vod/automation/\"},\n",
      "        {\"name\": \"장고 - 기본편\", \"url\": \"https://nomade.kr/vod/django/\"},\n",
      "        {\"name\": \"장고걸스 튜토리얼\", \"url\": \"https://nomade.kr/vod/djangogirls/\"},\n",
      "        {\"name\": \"장고 - Form/ModelForm 잘 알고 쓰기\", \"url\": \"https://nomade.kr/vod/form/\"},\n",
      "        {\"name\": \"장고 - 클래스 기반 뷰. 잘 알고 쓰기\", \"url\": \"https://nomade.kr/vod/cbv/\"},\n",
      "        {\"name\": \"장고 - 결제 시스템 연동\", \"url\": \"https://nomade.kr/vod/payment/\"},\n",
      "        {\"name\": \"장고 - 웹 프론트엔드 시작편\", \"url\": \"https://nomade.kr/vod/frontend/\"},\n",
      "        {\"name\": \"장고 - 다양한 위젯 만들기\", \"url\": \"https://nomade.kr/vod/widgets/\"},\n",
      "        {\"name\": \"장고 - API 서버 만들기 및 초간단 안드로이드 앱 만들기\", \"url\": \"https://nomade.kr/vod/apiserver/\"},\n",
      "        {\"name\": \"장고 - 하이브리드 앱 만들기\", \"url\": \"https://nomade.kr/vod/hybrid/\"},\n",
      "        {\"name\": \"장고 - 서비스 배포하기\", \"url\": \"https://nomade.kr/vod/deploy/\"},\n",
      "        {\"name\": \"장고 - 실전편 (Feat. 배달의 민족 St. 만들기)\", \"url\": \"https://nomade.kr/vod/django-baemin/\"},\n",
      "        {\"name\": \"장고 - 실전편 (Feat. 인스타그램 St. 만들기)\", \"url\": \"https://nomade.kr/vod/django-instagram/\"}\n",
      "    ]\n"
     ]
    }
   ],
   "source": [
    "print(matched.group(1))"
   ]
  },
  {
   "cell_type": "code",
   "execution_count": 81,
   "metadata": {
    "collapsed": true
   },
   "outputs": [],
   "source": [
    "json_string = matched.group(1)"
   ]
  },
  {
   "cell_type": "code",
   "execution_count": 84,
   "metadata": {
    "collapsed": false
   },
   "outputs": [],
   "source": [
    "import json\n",
    "course_list = json.loads(json_string)"
   ]
  },
  {
   "cell_type": "code",
   "execution_count": 90,
   "metadata": {
    "collapsed": false
   },
   "outputs": [
    {
     "name": "stdout",
     "output_type": "stream",
     "text": [
      "개발환경 구축하기 https://nomade.kr/vod/setup/ \n",
      "파이썬 차근차근 시작하기 https://nomade.kr/vod/python/ \n",
      "크롤링 차근차근 시작하기 https://nomade.kr/vod/crawling/ \n",
      "파이썬으로 업무 자동화 https://nomade.kr/vod/automation/ \n",
      "장고 - 기본편 https://nomade.kr/vod/django/ \n",
      "장고걸스 튜토리얼 https://nomade.kr/vod/djangogirls/ \n",
      "장고 - Form/ModelForm 잘 알고 쓰기 https://nomade.kr/vod/form/ \n",
      "장고 - 클래스 기반 뷰. 잘 알고 쓰기 https://nomade.kr/vod/cbv/ \n",
      "장고 - 결제 시스템 연동 https://nomade.kr/vod/payment/ \n",
      "장고 - 웹 프론트엔드 시작편 https://nomade.kr/vod/frontend/ \n",
      "장고 - 다양한 위젯 만들기 https://nomade.kr/vod/widgets/ \n",
      "장고 - API 서버 만들기 및 초간단 안드로이드 앱 만들기 https://nomade.kr/vod/apiserver/ \n",
      "장고 - 하이브리드 앱 만들기 https://nomade.kr/vod/hybrid/ \n",
      "장고 - 서비스 배포하기 https://nomade.kr/vod/deploy/ \n",
      "장고 - 실전편 (Feat. 배달의 민족 St. 만들기) https://nomade.kr/vod/django-baemin/ \n",
      "장고 - 실전편 (Feat. 인스타그램 St. 만들기) https://nomade.kr/vod/django-instagram/ \n"
     ]
    }
   ],
   "source": [
    "for course in course_list:\n",
    "    print('{name} {url} '.format(**course))"
   ]
  },
  {
   "cell_type": "code",
   "execution_count": null,
   "metadata": {
    "collapsed": true
   },
   "outputs": [],
   "source": []
  }
 ],
 "metadata": {
  "kernelspec": {
   "display_name": "Python 3",
   "language": "python",
   "name": "python3"
  },
  "language_info": {
   "codemirror_mode": {
    "name": "ipython",
    "version": 3
   },
   "file_extension": ".py",
   "mimetype": "text/x-python",
   "name": "python",
   "nbconvert_exporter": "python",
   "pygments_lexer": "ipython3",
   "version": "3.5.2"
  }
 },
 "nbformat": 4,
 "nbformat_minor": 2
}

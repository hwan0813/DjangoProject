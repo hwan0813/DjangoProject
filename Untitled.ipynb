{
 "cells": [
  {
   "cell_type": "code",
   "execution_count": null,
   "metadata": {
    "collapsed": true
   },
   "outputs": [],
   "source": [
    "from django.db import models\n",
    "import sys\n",
    "sys.path.append(\"/usr/local/lib/python3.5/dist-packages\")\n",
    "print(sys.path)\n",
    "from jsonfield import JSONField\n",
    "\n",
    "# Create your models here.\n",
    " \n",
    "class Book(models.Model):\n",
    "    isbn = models.BigIntegerField(primary_key=True)\n",
    "    title = models.CharField(max_length=128)\n",
    "    memo = JSONField(default={}, dump_kwargs={'ensure_ascii': False})\n",
    "    \n",
    "    def __str__(self):\n",
    "        return self.title"
   ]
  }
 ],
 "metadata": {
  "kernelspec": {
   "display_name": "Python 3",
   "language": "python",
   "name": "python3"
  },
  "language_info": {
   "codemirror_mode": {
    "name": "ipython",
    "version": 3
   },
   "file_extension": ".py",
   "mimetype": "text/x-python",
   "name": "python",
   "nbconvert_exporter": "python",
   "pygments_lexer": "ipython3",
   "version": "3.5.2"
  }
 },
 "nbformat": 4,
 "nbformat_minor": 2
}

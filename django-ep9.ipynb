{
 "cells": [
  {
   "cell_type": "code",
   "execution_count": 4,
   "metadata": {
    "collapsed": false
   },
   "outputs": [
    {
     "data": {
      "text/plain": [
       "dojo.models.Post"
      ]
     },
     "execution_count": 4,
     "metadata": {},
     "output_type": "execute_result"
    }
   ],
   "source": [
    "Post"
   ]
  },
  {
   "cell_type": "code",
   "execution_count": 5,
   "metadata": {
    "collapsed": false
   },
   "outputs": [
    {
     "data": {
      "text/plain": [
       "<django.db.models.manager.Manager at 0x7f7f01ca2e10>"
      ]
     },
     "execution_count": 5,
     "metadata": {},
     "output_type": "execute_result"
    }
   ],
   "source": [
    "Post.objects"
   ]
  },
  {
   "cell_type": "code",
   "execution_count": 6,
   "metadata": {
    "collapsed": false
   },
   "outputs": [
    {
     "data": {
      "text/plain": [
       "django.db.models.query.QuerySet"
      ]
     },
     "execution_count": 6,
     "metadata": {},
     "output_type": "execute_result"
    }
   ],
   "source": [
    "Post.objects.all().__class__"
   ]
  },
  {
   "cell_type": "code",
   "execution_count": 7,
   "metadata": {
    "collapsed": false
   },
   "outputs": [
    {
     "data": {
      "text/plain": [
       "<QuerySet [<Post: 제목3>]>"
      ]
     },
     "execution_count": 7,
     "metadata": {},
     "output_type": "execute_result"
    }
   ],
   "source": [
    "Post.objects.all()[1:3]"
   ]
  },
  {
   "cell_type": "markdown",
   "metadata": {},
   "source": [
    "### QuerySet 이라는건 sQl문을 생성해주는 인터페이스\n",
    "    Post.objects.all()  는 \"SELECT * FROM post\"\n",
    "    Post.objects.create()는 INSERT INTO ...\" 라는 sql을 생성하여 데이터베이스로 질의 함."
   ]
  },
  {
   "cell_type": "code",
   "execution_count": 8,
   "metadata": {
    "collapsed": false
   },
   "outputs": [
    {
     "data": {
      "text/plain": [
       "{'sql': 'SELECT `dojo_post`.`id`, `dojo_post`.`title`, `dojo_post`.`content`, `dojo_post`.`status`, `dojo_post`.`tags`, `dojo_post`.`lnglat`, `dojo_post`.`created_at`, `dojo_post`.`updated_at` FROM `dojo_post` LIMIT 2 OFFSET 1',\n",
       " 'time': '0.004'}"
      ]
     },
     "execution_count": 8,
     "metadata": {},
     "output_type": "execute_result"
    }
   ],
   "source": [
    "from django.db import connection # 이건 현재 쿼리에 뭐가 들어있는지 보여줌\n",
    "connection.queries[-1]"
   ]
  },
  {
   "cell_type": "code",
   "execution_count": 9,
   "metadata": {
    "collapsed": true
   },
   "outputs": [],
   "source": [
    "Post??"
   ]
  },
  {
   "cell_type": "code",
   "execution_count": 13,
   "metadata": {
    "collapsed": false
   },
   "outputs": [
    {
     "name": "stdout",
     "output_type": "stream",
     "text": [
      "제목1\n",
      "제목3\n"
     ]
    }
   ],
   "source": [
    "for post in Post.objects.all():\n",
    "    print(post)"
   ]
  },
  {
   "cell_type": "code",
   "execution_count": 14,
   "metadata": {
    "collapsed": true
   },
   "outputs": [],
   "source": [
    "import random\n",
    "\n",
    "for i in range(1000):\n",
    "    status = random.choice(['d','p','w'])\n",
    "    Post.objects.create(title= '제목 #{}'.format(i), content ='테스트 내용', status=status)"
   ]
  },
  {
   "cell_type": "code",
   "execution_count": 16,
   "metadata": {
    "collapsed": false
   },
   "outputs": [
    {
     "data": {
      "text/plain": [
       "1002"
      ]
     },
     "execution_count": 16,
     "metadata": {},
     "output_type": "execute_result"
    }
   ],
   "source": [
    "Post.objects.all().count()"
   ]
  },
  {
   "cell_type": "code",
   "execution_count": 19,
   "metadata": {
    "collapsed": false
   },
   "outputs": [
    {
     "data": {
      "text/plain": [
       "<QuerySet [<Post: 제목1>, <Post: 제목 #1>, <Post: 제목 #10>, <Post: 제목 #11>, <Post: 제목 #12>, <Post: 제목 #13>, <Post: 제목 #14>, <Post: 제목 #15>, <Post: 제목 #16>, <Post: 제목 #17>, <Post: 제목 #18>, <Post: 제목 #19>, <Post: 제목 #21>, <Post: 제목 #31>, <Post: 제목 #41>, <Post: 제목 #51>, <Post: 제목 #61>, <Post: 제목 #71>, <Post: 제목 #81>, <Post: 제목 #91>, '...(remaining elements truncated)...']>"
      ]
     },
     "execution_count": 19,
     "metadata": {},
     "output_type": "execute_result"
    }
   ],
   "source": [
    "Post.objects.filter(title__icontains='1')"
   ]
  },
  {
   "cell_type": "code",
   "execution_count": 21,
   "metadata": {
    "collapsed": false
   },
   "outputs": [
    {
     "data": {
      "text/plain": [
       "<QuerySet [<Post: 제목 #13>, <Post: 제목 #103>, <Post: 제목 #113>, <Post: 제목 #123>, <Post: 제목 #133>, <Post: 제목 #143>, <Post: 제목 #153>, <Post: 제목 #163>, <Post: 제목 #173>, <Post: 제목 #183>, <Post: 제목 #193>, <Post: 제목 #213>, <Post: 제목 #313>, <Post: 제목 #413>, <Post: 제목 #513>, <Post: 제목 #613>, <Post: 제목 #713>, <Post: 제목 #813>, <Post: 제목 #913>]>"
      ]
     },
     "execution_count": 21,
     "metadata": {},
     "output_type": "execute_result"
    }
   ],
   "source": [
    "Post.objects.filter(title__icontains='1', title__endswith='3') # 3으로 끝나는 조건을 and로 추가"
   ]
  },
  {
   "cell_type": "code",
   "execution_count": 24,
   "metadata": {
    "collapsed": false
   },
   "outputs": [
    {
     "data": {
      "text/plain": [
       "<QuerySet [<Post: 제목 #13>, <Post: 제목 #103>, <Post: 제목 #113>, <Post: 제목 #123>, <Post: 제목 #133>, <Post: 제목 #143>, <Post: 제목 #153>, <Post: 제목 #163>, <Post: 제목 #173>, <Post: 제목 #183>, <Post: 제목 #193>, <Post: 제목 #213>, <Post: 제목 #313>, <Post: 제목 #413>, <Post: 제목 #513>, <Post: 제목 #613>, <Post: 제목 #713>, <Post: 제목 #813>, <Post: 제목 #913>]>"
      ]
     },
     "execution_count": 24,
     "metadata": {},
     "output_type": "execute_result"
    }
   ],
   "source": [
    "Post.objects.filter(title__icontains='1').filter(title__endswith='3') # 위랑 같은 의미의코드"
   ]
  },
  {
   "cell_type": "code",
   "execution_count": 26,
   "metadata": {
    "collapsed": false
   },
   "outputs": [
    {
     "data": {
      "text/plain": [
       "<QuerySet [<Post: 제목1>, <Post: 제목 #1>, <Post: 제목 #10>, <Post: 제목 #11>, <Post: 제목 #12>, <Post: 제목 #14>, <Post: 제목 #15>, <Post: 제목 #16>, <Post: 제목 #17>, <Post: 제목 #18>, <Post: 제목 #19>, <Post: 제목 #21>, <Post: 제목 #31>, <Post: 제목 #41>, <Post: 제목 #51>, <Post: 제목 #61>, <Post: 제목 #71>, <Post: 제목 #81>, <Post: 제목 #91>, <Post: 제목 #100>, '...(remaining elements truncated)...']>"
      ]
     },
     "execution_count": 26,
     "metadata": {},
     "output_type": "execute_result"
    }
   ],
   "source": [
    "Post.objects.filter(title__icontains='1').exclude(title__endswith='3') # 3으로 끝나는 조건\n",
    "# 만 제외"
   ]
  },
  {
   "cell_type": "code",
   "execution_count": 27,
   "metadata": {
    "collapsed": true
   },
   "outputs": [],
   "source": [
    "from django.db.models import Q"
   ]
  },
  {
   "cell_type": "code",
   "execution_count": 30,
   "metadata": {
    "collapsed": false
   },
   "outputs": [
    {
     "data": {
      "text/plain": [
       "<QuerySet [<Post: 제목1>, <Post: 제목3>, <Post: 제목 #1>, <Post: 제목 #3>, <Post: 제목 #10>, <Post: 제목 #11>, <Post: 제목 #12>, <Post: 제목 #13>, <Post: 제목 #14>, <Post: 제목 #15>, <Post: 제목 #16>, <Post: 제목 #17>, <Post: 제목 #18>, <Post: 제목 #19>, <Post: 제목 #21>, <Post: 제목 #23>, <Post: 제목 #31>, <Post: 제목 #33>, <Post: 제목 #41>, <Post: 제목 #43>, '...(remaining elements truncated)...']>"
      ]
     },
     "execution_count": 30,
     "metadata": {},
     "output_type": "execute_result"
    }
   ],
   "source": [
    "Post.objects.filter( Q(title__icontains='1') | Q(title__endswith='3') ) # or조건사용하는법"
   ]
  },
  {
   "cell_type": "code",
   "execution_count": 35,
   "metadata": {
    "collapsed": false
   },
   "outputs": [
    {
     "name": "stdout",
     "output_type": "stream",
     "text": [
      "<QuerySet [<Post: 제목1>, <Post: 제목3>, <Post: 제목 #1>, <Post: 제목 #3>, <Post: 제목 #10>, <Post: 제목 #11>, <Post: 제목 #12>, <Post: 제목 #13>, <Post: 제목 #14>, <Post: 제목 #15>, <Post: 제목 #16>, <Post: 제목 #17>, <Post: 제목 #18>, <Post: 제목 #19>, <Post: 제목 #21>, <Post: 제목 #23>, <Post: 제목 #31>, <Post: 제목 #33>, <Post: 제목 #41>, <Post: 제목 #43>, '...(remaining elements truncated)...']>\n"
     ]
    }
   ],
   "source": [
    "qs =Post.objects.filter( Q(title__icontains='1') | Q(title__endswith='3') ) \n",
    "# 이렇게하면 아직 디비에아직 접근안함 가장 LAZY하게 접근한다고함. \n",
    "print(qs) # 이때 디비 액세스가 실행됨. "
   ]
  },
  {
   "cell_type": "markdown",
   "metadata": {},
   "source": [
    "###  슬라이싱"
   ]
  },
  {
   "cell_type": "code",
   "execution_count": 36,
   "metadata": {
    "collapsed": true
   },
   "outputs": [],
   "source": [
    "mynumbers = list(range(100))"
   ]
  },
  {
   "cell_type": "code",
   "execution_count": 37,
   "metadata": {
    "collapsed": false
   },
   "outputs": [
    {
     "data": {
      "text/plain": [
       "[1, 3, 5, 7, 9]"
      ]
     },
     "execution_count": 37,
     "metadata": {},
     "output_type": "execute_result"
    }
   ],
   "source": [
    "mynumbers[1:10:2]"
   ]
  },
  {
   "cell_type": "code",
   "execution_count": 38,
   "metadata": {
    "collapsed": false
   },
   "outputs": [
    {
     "data": {
      "text/plain": [
       "[10, 8, 6, 4, 2]"
      ]
     },
     "execution_count": 38,
     "metadata": {},
     "output_type": "execute_result"
    }
   ],
   "source": [
    "mynumbers[10:1:-2]"
   ]
  },
  {
   "cell_type": "code",
   "execution_count": 39,
   "metadata": {
    "collapsed": false
   },
   "outputs": [
    {
     "data": {
      "text/plain": [
       "[0, 10, 20, 30, 40, 50, 60, 70, 80, 90]"
      ]
     },
     "execution_count": 39,
     "metadata": {},
     "output_type": "execute_result"
    }
   ],
   "source": [
    "mynumbers[::10]"
   ]
  },
  {
   "cell_type": "code",
   "execution_count": 40,
   "metadata": {
    "collapsed": true
   },
   "outputs": [],
   "source": [
    "queryset = Post.objects.all()"
   ]
  },
  {
   "cell_type": "code",
   "execution_count": 51,
   "metadata": {
    "collapsed": true
   },
   "outputs": [],
   "source": [
    "model_instance = queryset.get(id=100)\n",
    "# 이런식으로 특정 조건을 가진 것만 가져올수있음\n",
    "model_instance2 = queryset.get(title='제목 #998')\n",
    "# 이런식으로 특정 조건을 가진 것만 가져올수있음\n",
    "# 단 get은 해당하는 데이터가 1개!!! 임을 기대하는것 0개나 2개이상이면 오류"
   ]
  },
  {
   "cell_type": "code",
   "execution_count": 52,
   "metadata": {
    "collapsed": false
   },
   "outputs": [
    {
     "name": "stdout",
     "output_type": "stream",
     "text": [
      "제목 #97\n",
      "제목 #998\n"
     ]
    }
   ],
   "source": [
    "print(model_instance)\n",
    "print(model_instance2)"
   ]
  },
  {
   "cell_type": "markdown",
   "metadata": {},
   "source": [
    "### 이런식으로 인스턴스 얻어와서 그거 값바꾸고 save, delelte update 적용할수 잇음. 개꿀 ."
   ]
  },
  {
   "cell_type": "code",
   "execution_count": null,
   "metadata": {
    "collapsed": true
   },
   "outputs": [],
   "source": []
  }
 ],
 "metadata": {
  "kernelspec": {
   "display_name": "Django Shell-Plus",
   "language": "python",
   "name": "django_extensions"
  },
  "language_info": {
   "codemirror_mode": {
    "name": "ipython",
    "version": 3
   },
   "file_extension": ".py",
   "mimetype": "text/x-python",
   "name": "python",
   "nbconvert_exporter": "python",
   "pygments_lexer": "ipython3",
   "version": "3.5.2"
  }
 },
 "nbformat": 4,
 "nbformat_minor": 2
}
